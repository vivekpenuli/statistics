{
  "nbformat": 4,
  "nbformat_minor": 0,
  "metadata": {
    "colab": {
      "name": "statistics 1",
      "provenance": [],
      "collapsed_sections": [],
      "authorship_tag": "ABX9TyMmBqVptjAYCGIGIPgkAunK",
      "include_colab_link": true
    },
    "kernelspec": {
      "name": "python3",
      "display_name": "Python 3"
    }
  },
  "cells": [
    {
      "cell_type": "markdown",
      "metadata": {
        "id": "view-in-github",
        "colab_type": "text"
      },
      "source": [
        "<a href=\"https://colab.research.google.com/github/vivekpenuli/statistics/blob/master/statistics_1.ipynb\" target=\"_parent\"><img src=\"https://colab.research.google.com/assets/colab-badge.svg\" alt=\"Open In Colab\"/></a>"
      ]
    },
    {
      "cell_type": "code",
      "metadata": {
        "id": "0--2DO7eNHAM",
        "colab_type": "code",
        "colab": {}
      },
      "source": [
        "import pandas as pd\n",
        "\n",
        "url='https://raw.githubusercontent.com/gedeck/practical-statistics-for-data-scientists/master/data/state.csv'"
      ],
      "execution_count": null,
      "outputs": []
    },
    {
      "cell_type": "code",
      "metadata": {
        "id": "hwFu0b81O2Gc",
        "colab_type": "code",
        "colab": {
          "base_uri": "https://localhost:8080/",
          "height": 204
        },
        "outputId": "e0fa3a25-75da-4f27-92dc-276d4afedb54"
      },
      "source": [
        "df=pd.read_csv(url)\n",
        "df.head(5)"
      ],
      "execution_count": null,
      "outputs": [
        {
          "output_type": "execute_result",
          "data": {
            "text/html": [
              "<div>\n",
              "<style scoped>\n",
              "    .dataframe tbody tr th:only-of-type {\n",
              "        vertical-align: middle;\n",
              "    }\n",
              "\n",
              "    .dataframe tbody tr th {\n",
              "        vertical-align: top;\n",
              "    }\n",
              "\n",
              "    .dataframe thead th {\n",
              "        text-align: right;\n",
              "    }\n",
              "</style>\n",
              "<table border=\"1\" class=\"dataframe\">\n",
              "  <thead>\n",
              "    <tr style=\"text-align: right;\">\n",
              "      <th></th>\n",
              "      <th>State</th>\n",
              "      <th>Population</th>\n",
              "      <th>Murder.Rate</th>\n",
              "      <th>Abbreviation</th>\n",
              "    </tr>\n",
              "  </thead>\n",
              "  <tbody>\n",
              "    <tr>\n",
              "      <th>0</th>\n",
              "      <td>Alabama</td>\n",
              "      <td>4779736</td>\n",
              "      <td>5.7</td>\n",
              "      <td>AL</td>\n",
              "    </tr>\n",
              "    <tr>\n",
              "      <th>1</th>\n",
              "      <td>Alaska</td>\n",
              "      <td>710231</td>\n",
              "      <td>5.6</td>\n",
              "      <td>AK</td>\n",
              "    </tr>\n",
              "    <tr>\n",
              "      <th>2</th>\n",
              "      <td>Arizona</td>\n",
              "      <td>6392017</td>\n",
              "      <td>4.7</td>\n",
              "      <td>AZ</td>\n",
              "    </tr>\n",
              "    <tr>\n",
              "      <th>3</th>\n",
              "      <td>Arkansas</td>\n",
              "      <td>2915918</td>\n",
              "      <td>5.6</td>\n",
              "      <td>AR</td>\n",
              "    </tr>\n",
              "    <tr>\n",
              "      <th>4</th>\n",
              "      <td>California</td>\n",
              "      <td>37253956</td>\n",
              "      <td>4.4</td>\n",
              "      <td>CA</td>\n",
              "    </tr>\n",
              "  </tbody>\n",
              "</table>\n",
              "</div>"
            ],
            "text/plain": [
              "        State  Population  Murder.Rate Abbreviation\n",
              "0     Alabama     4779736          5.7           AL\n",
              "1      Alaska      710231          5.6           AK\n",
              "2     Arizona     6392017          4.7           AZ\n",
              "3    Arkansas     2915918          5.6           AR\n",
              "4  California    37253956          4.4           CA"
            ]
          },
          "metadata": {
            "tags": []
          },
          "execution_count": 25
        }
      ]
    },
    {
      "cell_type": "code",
      "metadata": {
        "id": "Kzbv2RpwXSI8",
        "colab_type": "code",
        "colab": {}
      },
      "source": [
        "df.Population"
      ],
      "execution_count": null,
      "outputs": []
    },
    {
      "cell_type": "code",
      "metadata": {
        "id": "jPDn6q6QO2ML",
        "colab_type": "code",
        "colab": {
          "base_uri": "https://localhost:8080/",
          "height": 34
        },
        "outputId": "8261849c-c48b-4d4f-90b4-9a892a380d41"
      },
      "source": [
        "df['Population'].mean()"
      ],
      "execution_count": null,
      "outputs": [
        {
          "output_type": "execute_result",
          "data": {
            "text/plain": [
              "6162876.3"
            ]
          },
          "metadata": {
            "tags": []
          },
          "execution_count": 27
        }
      ]
    },
    {
      "cell_type": "code",
      "metadata": {
        "id": "pgis5MPEXnUb",
        "colab_type": "code",
        "colab": {
          "base_uri": "https://localhost:8080/",
          "height": 34
        },
        "outputId": "037cb640-d7d4-4610-fbf5-90c21abf1fac"
      },
      "source": [
        "print(df['Population'].median())"
      ],
      "execution_count": null,
      "outputs": [
        {
          "output_type": "stream",
          "text": [
            "4436369.5\n"
          ],
          "name": "stdout"
        }
      ]
    },
    {
      "cell_type": "code",
      "metadata": {
        "id": "93Oxa8ScPsaC",
        "colab_type": "code",
        "colab": {}
      },
      "source": [
        "from scipy.stats import trim_mean"
      ],
      "execution_count": null,
      "outputs": []
    },
    {
      "cell_type": "markdown",
      "metadata": {
        "id": "CixDPqsLzC8i",
        "colab_type": "text"
      },
      "source": [
        "[link text](https://docs.google.com/drawings/d/1wzlTaj3dhI1naU4suhedP-6sGWE3xgn5mL-KEZuKr5A/edit?usp=sharing)"
      ]
    },
    {
      "cell_type": "code",
      "metadata": {
        "id": "1gsM4TaEO2Qb",
        "colab_type": "code",
        "colab": {
          "base_uri": "https://localhost:8080/",
          "height": 34
        },
        "outputId": "6a1ea5bc-29fd-4a2b-a30a-9bb9bada6d3c"
      },
      "source": [
        "print(trim_mean(df['Population'], 0.1))      # it is not sensitive to  outlier like median "
      ],
      "execution_count": null,
      "outputs": [
        {
          "output_type": "stream",
          "text": [
            "4783697.125\n"
          ],
          "name": "stdout"
        }
      ]
    },
    {
      "cell_type": "markdown",
      "metadata": {
        "id": "H650mNxfX322",
        "colab_type": "text"
      },
      "source": [
        "# note : The mean is bigger than the trimmed mean, which is bigger than the median.\n",
        "because trim mean exclude teh 10 % from each side"
      ]
    },
    {
      "cell_type": "markdown",
      "metadata": {
        "id": "QeovsQ_-VSKr",
        "colab_type": "text"
      },
      "source": [
        "weighted mean"
      ]
    },
    {
      "cell_type": "markdown",
      "metadata": {
        "id": "E8mt6EHYWsSf",
        "colab_type": "text"
      },
      "source": [
        "Another type of mean is a weighted mean, which you calculate by multiplying each data value xi by a user-specified weight wi and dividing their sum by the sum of the weights. The formula for a weighted mean is:\n",
        "\n",
        "Weightedmean=x¯w=∑ni=1wixi∑ni=1wi\n",
        "There are two main motivations for using a weighted mean:\n",
        "\n",
        "Some values are intrinsically more variable than others, and highly variable observations are given a lower weight. For example, if we are taking the average from multiple sensors and one of the sensors is less accurate, then we might downweight the data from that sensor.\n",
        "\n",
        "The data collected does not equally represent the different groups that we are interested in measuring. For example, because of the way an online experiment was conducted, we may not have a set of data that accurately reflects all groups in the user base. To correct that, we can give a higher weight to the values from the groups that were underrepresented."
      ]
    },
    {
      "cell_type": "code",
      "metadata": {
        "id": "1rxPiXwBVqzq",
        "colab_type": "code",
        "colab": {}
      },
      "source": [
        "import numpy as np"
      ],
      "execution_count": null,
      "outputs": []
    },
    {
      "cell_type": "markdown",
      "metadata": {
        "id": "yI4NiJa9zLIH",
        "colab_type": "text"
      },
      "source": [
        "[link text](https://www.mathsisfun.com/data/weighted-mean.html)"
      ]
    },
    {
      "cell_type": "code",
      "metadata": {
        "id": "8iFEsRWjWDdw",
        "colab_type": "code",
        "colab": {
          "base_uri": "https://localhost:8080/",
          "height": 34
        },
        "outputId": "49f06571-c749-494b-912d-d54a5c59d71e"
      },
      "source": [
        "print(df['Murder.Rate'].mean())          \n",
        "  # here calculating the murder rate mean do not generaly give \n",
        "  #us the mean murder rate because here murder also depend on poplulation"
      ],
      "execution_count": null,
      "outputs": [
        {
          "output_type": "stream",
          "text": [
            "4.066\n"
          ],
          "name": "stdout"
        }
      ]
    },
    {
      "cell_type": "code",
      "metadata": {
        "id": "plZ51Gj_PipA",
        "colab_type": "code",
        "colab": {
          "base_uri": "https://localhost:8080/",
          "height": 34
        },
        "outputId": "60f8cb81-ad5e-4d4e-b0c3-c1425f4bb7d7"
      },
      "source": [
        "print(np.average(df['Murder.Rate'], weights=df['Population']))\n"
      ],
      "execution_count": null,
      "outputs": [
        {
          "output_type": "stream",
          "text": [
            "4.445833981123393\n"
          ],
          "name": "stdout"
        }
      ]
    },
    {
      "cell_type": "markdown",
      "metadata": {
        "id": "U2jF9DJtatr3",
        "colab_type": "text"
      },
      "source": [
        "#variance\n"
      ]
    },
    {
      "cell_type": "code",
      "metadata": {
        "id": "W7fEZa0APitx",
        "colab_type": "code",
        "colab": {
          "base_uri": "https://localhost:8080/",
          "height": 204
        },
        "outputId": "bfac210f-5589-4ab9-ce90-80ff01b4d8ff"
      },
      "source": [
        "df.head(5)"
      ],
      "execution_count": null,
      "outputs": [
        {
          "output_type": "execute_result",
          "data": {
            "text/html": [
              "<div>\n",
              "<style scoped>\n",
              "    .dataframe tbody tr th:only-of-type {\n",
              "        vertical-align: middle;\n",
              "    }\n",
              "\n",
              "    .dataframe tbody tr th {\n",
              "        vertical-align: top;\n",
              "    }\n",
              "\n",
              "    .dataframe thead th {\n",
              "        text-align: right;\n",
              "    }\n",
              "</style>\n",
              "<table border=\"1\" class=\"dataframe\">\n",
              "  <thead>\n",
              "    <tr style=\"text-align: right;\">\n",
              "      <th></th>\n",
              "      <th>State</th>\n",
              "      <th>Population</th>\n",
              "      <th>Murder.Rate</th>\n",
              "      <th>Abbreviation</th>\n",
              "    </tr>\n",
              "  </thead>\n",
              "  <tbody>\n",
              "    <tr>\n",
              "      <th>0</th>\n",
              "      <td>Alabama</td>\n",
              "      <td>4779736</td>\n",
              "      <td>5.7</td>\n",
              "      <td>AL</td>\n",
              "    </tr>\n",
              "    <tr>\n",
              "      <th>1</th>\n",
              "      <td>Alaska</td>\n",
              "      <td>710231</td>\n",
              "      <td>5.6</td>\n",
              "      <td>AK</td>\n",
              "    </tr>\n",
              "    <tr>\n",
              "      <th>2</th>\n",
              "      <td>Arizona</td>\n",
              "      <td>6392017</td>\n",
              "      <td>4.7</td>\n",
              "      <td>AZ</td>\n",
              "    </tr>\n",
              "    <tr>\n",
              "      <th>3</th>\n",
              "      <td>Arkansas</td>\n",
              "      <td>2915918</td>\n",
              "      <td>5.6</td>\n",
              "      <td>AR</td>\n",
              "    </tr>\n",
              "    <tr>\n",
              "      <th>4</th>\n",
              "      <td>California</td>\n",
              "      <td>37253956</td>\n",
              "      <td>4.4</td>\n",
              "      <td>CA</td>\n",
              "    </tr>\n",
              "  </tbody>\n",
              "</table>\n",
              "</div>"
            ],
            "text/plain": [
              "        State  Population  Murder.Rate Abbreviation\n",
              "0     Alabama     4779736          5.7           AL\n",
              "1      Alaska      710231          5.6           AK\n",
              "2     Arizona     6392017          4.7           AZ\n",
              "3    Arkansas     2915918          5.6           AR\n",
              "4  California    37253956          4.4           CA"
            ]
          },
          "metadata": {
            "tags": []
          },
          "execution_count": 10
        }
      ]
    },
    {
      "cell_type": "code",
      "metadata": {
        "id": "PqMZlh4APiw7",
        "colab_type": "code",
        "colab": {
          "base_uri": "https://localhost:8080/",
          "height": 34
        },
        "outputId": "f47dd9d4-bf73-4c58-b93a-bb869004b016"
      },
      "source": [
        "print(df['Population'].std()) # not a good way to check the variance \n",
        "#because standard deviation is effective by outliers\n"
      ],
      "execution_count": null,
      "outputs": [
        {
          "output_type": "stream",
          "text": [
            "6848235.347401142\n"
          ],
          "name": "stdout"
        }
      ]
    },
    {
      "cell_type": "markdown",
      "metadata": {
        "id": "H8fRFX-PnVTr",
        "colab_type": "text"
      },
      "source": [
        "# better way"
      ]
    },
    {
      "cell_type": "markdown",
      "metadata": {
        "id": "wH1TnPEpnS7n",
        "colab_type": "text"
      },
      "source": [
        "The median absolute deviation (MAD, [1]) computes the median over the absolute deviations from the median. It is a measure of dispersion similar to the standard deviation but more robust to outliers "
      ]
    },
    {
      "cell_type": "code",
      "metadata": {
        "id": "m2KYkwOYmV4Q",
        "colab_type": "code",
        "colab": {}
      },
      "source": [
        "from scipy import stats"
      ],
      "execution_count": null,
      "outputs": []
    },
    {
      "cell_type": "markdown",
      "metadata": {
        "id": "TgCGCkfIzTBW",
        "colab_type": "text"
      },
      "source": [
        "[link text](https://www.statisticshowto.com/median-absolute-deviation/)"
      ]
    },
    {
      "cell_type": "code",
      "metadata": {
        "id": "GJ71T9a2mV9C",
        "colab_type": "code",
        "colab": {
          "base_uri": "https://localhost:8080/",
          "height": 34
        },
        "outputId": "c982dd41-3c1d-4d80-9080-0181ee4164cb"
      },
      "source": [
        "stats.median_absolute_deviation(df['Population'])"
      ],
      "execution_count": null,
      "outputs": [
        {
          "output_type": "execute_result",
          "data": {
            "text/plain": [
              "3849870.3852"
            ]
          },
          "metadata": {
            "tags": []
          },
          "execution_count": 13
        }
      ]
    },
    {
      "cell_type": "code",
      "metadata": {
        "id": "qrgRxhO0mWNE",
        "colab_type": "code",
        "colab": {
          "base_uri": "https://localhost:8080/",
          "height": 34
        },
        "outputId": "5731db06-6e28-449d-fffa-0f04c9f3129e"
      },
      "source": [
        "print(abs(df['Population'] - df['Population'].median()).median() / 0.6744897501960817)"
      ],
      "execution_count": null,
      "outputs": [
        {
          "output_type": "stream",
          "text": [
            "3849876.1459979336\n"
          ],
          "name": "stdout"
        }
      ]
    },
    {
      "cell_type": "markdown",
      "metadata": {
        "id": "AMrS-UHGokiA",
        "colab_type": "text"
      },
      "source": [
        "Interquartile range is calculated as the difference of the 75% and 25% quantile."
      ]
    },
    {
      "cell_type": "code",
      "metadata": {
        "id": "K0gZjkDVmWAy",
        "colab_type": "code",
        "colab": {
          "base_uri": "https://localhost:8080/",
          "height": 34
        },
        "outputId": "9e4d48e2-9dcf-4da2-a0f2-2d49158b3a3a"
      },
      "source": [
        "print(df['Population'].quantile(0.75) - df['Population'].quantile(0.25))\n"
      ],
      "execution_count": null,
      "outputs": [
        {
          "output_type": "stream",
          "text": [
            "4847308.0\n"
          ],
          "name": "stdout"
        }
      ]
    },
    {
      "cell_type": "markdown",
      "metadata": {
        "id": "NPzJzkTQqbA6",
        "colab_type": "text"
      },
      "source": [
        "#Percentiles and Boxplots\n",
        "Pandas has the quantile method for data frames."
      ]
    },
    {
      "cell_type": "code",
      "metadata": {
        "id": "qTt0aw5GPi0X",
        "colab_type": "code",
        "colab": {
          "base_uri": "https://localhost:8080/",
          "height": 119
        },
        "outputId": "0eb3b77e-1c90-474a-e1b7-e98014460395"
      },
      "source": [
        "print(df['Murder.Rate'].quantile([0.05, 0.25, 0.5, 0.75, 0.95]))"
      ],
      "execution_count": null,
      "outputs": [
        {
          "output_type": "stream",
          "text": [
            "0.05    1.600\n",
            "0.25    2.425\n",
            "0.50    4.000\n",
            "0.75    5.550\n",
            "0.95    6.510\n",
            "Name: Murder.Rate, dtype: float64\n"
          ],
          "name": "stdout"
        }
      ]
    },
    {
      "cell_type": "code",
      "metadata": {
        "id": "3stvEmkNqw5F",
        "colab_type": "code",
        "colab": {
          "base_uri": "https://localhost:8080/",
          "height": 119
        },
        "outputId": "e4a2b39d-033b-4ae7-b1ae-a7377df28389"
      },
      "source": [
        "print(df['Population'].quantile([0.05, 0.25, 0.5, 0.75, 0.95]))\n",
        "# 0.5 is also called mean of the dataset"
      ],
      "execution_count": null,
      "outputs": [
        {
          "output_type": "stream",
          "text": [
            "0.05      689529.00\n",
            "0.25     1833004.25\n",
            "0.50     4436369.50\n",
            "0.75     6680312.25\n",
            "0.95    19118545.60\n",
            "Name: Population, dtype: float64\n"
          ],
          "name": "stdout"
        }
      ]
    },
    {
      "cell_type": "code",
      "metadata": {
        "id": "tr2weVyeqxBE",
        "colab_type": "code",
        "colab": {
          "base_uri": "https://localhost:8080/",
          "height": 51
        },
        "outputId": "3b2acc74-e2ac-43fe-ab38-a1c96f0adbea"
      },
      "source": [
        "percentages = [0.05, 0.25, 0.5, 0.75, 0.95]\n",
        "df = pd.DataFrame(df['Murder.Rate'].quantile(percentages))\n",
        "df.index = [f'{p * 100}%' for p in percentages]\n",
        "print(df.transpose())   # better way to do find qantile"
      ],
      "execution_count": null,
      "outputs": [
        {
          "output_type": "stream",
          "text": [
            "             5.0%  25.0%  50.0%  75.0%  95.0%\n",
            "Murder.Rate   1.6  2.425    4.0   5.55   6.51\n"
          ],
          "name": "stdout"
        }
      ]
    },
    {
      "cell_type": "markdown",
      "metadata": {
        "id": "YNMfPGj_wnu0",
        "colab_type": "text"
      },
      "source": [
        "visualization of qunatile ,median etc:"
      ]
    },
    {
      "cell_type": "code",
      "metadata": {
        "id": "TA-8qFzNq3oz",
        "colab_type": "code",
        "colab": {}
      },
      "source": [
        "import seaborn as sns\n"
      ],
      "execution_count": null,
      "outputs": []
    },
    {
      "cell_type": "code",
      "metadata": {
        "id": "3FDQLrpyq3ss",
        "colab_type": "code",
        "colab": {
          "base_uri": "https://localhost:8080/",
          "height": 252
        },
        "outputId": "f8d84085-196e-406e-db42-2a377d762f67"
      },
      "source": [
        "ax = sns.boxplot(x=df['Population']/1000000,orient='v')"
      ],
      "execution_count": null,
      "outputs": [
        {
          "output_type": "display_data",
          "data": {
            "image/png": "[encoded data removed]",
            "text/plain": [
              "<Figure size 432x288 with 1 Axes>"
            ]
          },
          "metadata": {
            "tags": [],
            "needs_background": "light"
          }
        }
      ]
    },
    {
      "cell_type": "code",
      "metadata": {
        "id": "jmu6Nt6nyZ4N",
        "colab_type": "code",
        "colab": {
          "base_uri": "https://localhost:8080/",
          "height": 263
        },
        "outputId": "fd928c38-400d-46b8-8131-bcb1a8da868a"
      },
      "source": [
        "ax = sns.boxplot(x=df[\"Population\"],orient='v')"
      ],
      "execution_count": null,
      "outputs": [
        {
          "output_type": "display_data",
          "data": {
            "image/png": "[encoded data removed]",
            "text/plain": [
              "<Figure size 432x288 with 1 Axes>"
            ]
          },
          "metadata": {
            "tags": [],
            "needs_background": "light"
          }
        }
      ]
    },
    {
      "cell_type": "code",
      "metadata": {
        "id": "O2PxoToMxOR3",
        "colab_type": "code",
        "colab": {
          "base_uri": "https://localhost:8080/",
          "height": 119
        },
        "outputId": "b38d0505-1dc5-426f-bc60-ed2695fa4405"
      },
      "source": [
        "print(df['Population'].head(5))   #here each state have different population in number\n",
        "# some can have large population some can have low population"
      ],
      "execution_count": null,
      "outputs": [
        {
          "output_type": "stream",
          "text": [
            "0     4779736\n",
            "1      710231\n",
            "2     6392017\n",
            "3     2915918\n",
            "4    37253956\n",
            "Name: Population, dtype: int64\n"
          ],
          "name": "stdout"
        }
      ]
    },
    {
      "cell_type": "code",
      "metadata": {
        "id": "dSeJcrDwq3wt",
        "colab_type": "code",
        "colab": {
          "base_uri": "https://localhost:8080/",
          "height": 119
        },
        "outputId": "e220a42e-bd59-48d9-eadd-ee3bd7d87c72"
      },
      "source": [
        "print( (df['Population']/1000000).head(5)) # here now each state have population divided in million "
      ],
      "execution_count": null,
      "outputs": [
        {
          "output_type": "stream",
          "text": [
            "0     4.779736\n",
            "1     0.710231\n",
            "2     6.392017\n",
            "3     2.915918\n",
            "4    37.253956\n",
            "Name: Population, dtype: float64\n"
          ],
          "name": "stdout"
        }
      ]
    },
    {
      "cell_type": "code",
      "metadata": {
        "id": "0mbDXHB7q31D",
        "colab_type": "code",
        "colab": {
          "base_uri": "https://localhost:8080/",
          "height": 297
        },
        "outputId": "7cc35fa9-aebe-43a4-94f2-d96fe1f0175e"
      },
      "source": [
        "import matplotlib.pyplot as plt\n",
        "\n",
        "ax = (df['Population']/1_000_000).plot.box(figsize=(3, 4))\n",
        "ax.set_ylabel('Population (millions)')\n",
        "\n",
        "plt.tight_layout()\n",
        "plt.show()"
      ],
      "execution_count": null,
      "outputs": [
        {
          "output_type": "display_data",
          "data": {
            "image/png": "[encoded data removed]",
            "text/plain": [
              "<Figure size 216x288 with 1 Axes>"
            ]
          },
          "metadata": {
            "tags": [],
            "needs_background": "light"
          }
        }
      ]
    },
    {
      "cell_type": "markdown",
      "metadata": {
        "id": "_hqA71fRz1g5",
        "colab_type": "text"
      },
      "source": [
        " # Histograms\n",
        " when dealing with graph in population try to make population in million\n",
        " beacuse it help us to sumarise the graph more preciously "
      ]
    },
    {
      "cell_type": "code",
      "metadata": {
        "id": "vm1ANMRNzzC1",
        "colab_type": "code",
        "colab": {
          "base_uri": "https://localhost:8080/",
          "height": 204
        },
        "outputId": "8cb06fb0-40e4-409f-91d0-c69e5b03dbb8"
      },
      "source": [
        "binnedPopulation = pd.cut(df['Population'],bins=10)\n",
        "print(binnedPopulation.value_counts())"
      ],
      "execution_count": null,
      "outputs": [
        {
          "output_type": "stream",
          "text": [
            "(526935.67, 4232659.0]      24\n",
            "(4232659.0, 7901692.0]      14\n",
            "(7901692.0, 11570725.0]      6\n",
            "(11570725.0, 15239758.0]     2\n",
            "(33584923.0, 37253956.0]     1\n",
            "(22577824.0, 26246857.0]     1\n",
            "(18908791.0, 22577824.0]     1\n",
            "(15239758.0, 18908791.0]     1\n",
            "(29915890.0, 33584923.0]     0\n",
            "(26246857.0, 29915890.0]     0\n",
            "Name: Population, dtype: int64\n"
          ],
          "name": "stdout"
        }
      ]
    },
    {
      "cell_type": "markdown",
      "metadata": {
        "id": "eP2tuBe7zajP",
        "colab_type": "text"
      },
      "source": [
        "[link text](https://matplotlib.org/3.2.1/tutorials/intermediate/tight_layout_guide.html)"
      ]
    },
    {
      "cell_type": "code",
      "metadata": {
        "id": "0ZhfsxNRzzcX",
        "colab_type": "code",
        "colab": {
          "base_uri": "https://localhost:8080/",
          "height": 297
        },
        "outputId": "589ad887-f55c-4f22-a2f6-8227587bbebe"
      },
      "source": [
        "# this is the actual graph of above table\n",
        "ax = (df['Population']/1000000).plot.hist(figsize=(4, 4))\n",
        "ax.set_xlabel('Population (millions)')\n",
        "\n",
        "plt.tight_layout()  # use of tight_layout in comment\n",
        "plt.show()"
      ],
      "execution_count": null,
      "outputs": [
        {
          "output_type": "display_data",
          "data": {
            "image/png": "[encoded data removed]",
            "text/plain": [
              "<Figure size 288x288 with 1 Axes>"
            ]
          },
          "metadata": {
            "tags": [],
            "needs_background": "light"
          }
        }
      ]
    },
    {
      "cell_type": "code",
      "metadata": {
        "id": "DnKvpvqjhWf4",
        "colab_type": "code",
        "colab": {
          "base_uri": "https://localhost:8080/",
          "height": 204
        },
        "outputId": "d6c737c4-5d92-43a0-b52e-45cd9b5b8f4e"
      },
      "source": [
        "may = pd.cut(df['Population']/1000000,bins=[0,5,10,15,20,25,30,35,40,45,50])\n",
        "print(may.value_counts())"
      ],
      "execution_count": null,
      "outputs": [
        {
          "output_type": "stream",
          "text": [
            "(0, 5]      28\n",
            "(5, 10]     15\n",
            "(10, 15]     3\n",
            "(15, 20]     2\n",
            "(35, 40]     1\n",
            "(25, 30]     1\n",
            "(45, 50]     0\n",
            "(40, 45]     0\n",
            "(30, 35]     0\n",
            "(20, 25]     0\n",
            "Name: Population, dtype: int64\n"
          ],
          "name": "stdout"
        }
      ]
    },
    {
      "cell_type": "code",
      "metadata": {
        "id": "WiwhcRTkzzhW",
        "colab_type": "code",
        "colab": {
          "base_uri": "https://localhost:8080/",
          "height": 295
        },
        "outputId": "bf46d874-5a4c-4c21-89bc-c73452820c9c"
      },
      "source": [
        "bins=[0,5,10,15,20,25,30,35,40,45,50]  # here these are the frequency intervals we are intrested in .\n",
        "# here the minimum frequency is 0 therfore bins should contrain 0 \n",
        "plt.title(\"distribution\")\n",
        "plt.xlabel('population(million')\n",
        "plt.ylabel(\"frequency\")\n",
        "plt.hist(df['Population']/1000000,rwidth=0.9,bins=bins)\n",
        "plt.show()"
      ],
      "execution_count": 77,
      "outputs": [
        {
          "output_type": "display_data",
          "data": {
            "image/png": "[encoded data removed]",
            "text/plain": [
              "<Figure size 432x288 with 1 Axes>"
            ]
          },
          "metadata": {
            "tags": [],
            "needs_background": "light"
          }
        }
      ]
    },
    {
      "cell_type": "markdown",
      "metadata": {
        "id": "HC-KbzE0smKs",
        "colab_type": "text"
      },
      "source": [
        "#Density Estimates"
      ]
    },
    {
      "cell_type": "code",
      "metadata": {
        "id": "wkvFS4WqupS2",
        "colab_type": "code",
        "colab": {
          "base_uri": "https://localhost:8080/",
          "height": 295
        },
        "outputId": "18908b29-3450-4dbf-9c3f-ab46b555787e"
      },
      "source": [
        "plt.title(\"distribution\")\n",
        "plt.xlabel('murder rate')\n",
        "plt.ylabel(\"density\")\n",
        "plt.hist(df['Murder.Rate'])\n",
        "plt.show()"
      ],
      "execution_count": 92,
      "outputs": [
        {
          "output_type": "display_data",
          "data": {
            "image/png": "[encoded data removed]",
            "text/plain": [
              "<Figure size 432x288 with 1 Axes>"
            ]
          },
          "metadata": {
            "tags": [],
            "needs_background": "light"
          }
        }
      ]
    },
    {
      "cell_type": "code",
      "metadata": {
        "id": "hGUeKzZhszcO",
        "colab_type": "code",
        "colab": {
          "base_uri": "https://localhost:8080/",
          "height": 297
        },
        "outputId": "59f26437-f6f8-4b97-9b12-77e4cbab9582"
      },
      "source": [
        "ax = df['Murder.Rate'].plot.hist(density=True, xlim=[0, 12], \n",
        "                                    bins=range(1,12), figsize=(4, 4))\n",
        "df['Murder.Rate'].plot.density(ax=ax)\n",
        "ax.set_xlabel('Murder Rate (per 100,000)')\n",
        "\n",
        "plt.tight_layout()\n",
        "plt.show()"
      ],
      "execution_count": 82,
      "outputs": [
        {
          "output_type": "display_data",
          "data": {
            "image/png": "[encoded data removed]",
            "text/plain": [
              "<Figure size 288x288 with 1 Axes>"
            ]
          },
          "metadata": {
            "tags": [],
            "needs_background": "light"
          }
        }
      ]
    },
    {
      "cell_type": "code",
      "metadata": {
        "id": "5m15JpTvsz2J",
        "colab_type": "code",
        "colab": {}
      },
      "source": [
        ""
      ],
      "execution_count": null,
      "outputs": []
    },
    {
      "cell_type": "code",
      "metadata": {
        "id": "fifQ_r8lsz7M",
        "colab_type": "code",
        "colab": {}
      },
      "source": [
        ""
      ],
      "execution_count": null,
      "outputs": []
    },
    {
      "cell_type": "code",
      "metadata": {
        "id": "glmWPJAqsz-1",
        "colab_type": "code",
        "colab": {}
      },
      "source": [
        ""
      ],
      "execution_count": null,
      "outputs": []
    },
    {
      "cell_type": "code",
      "metadata": {
        "id": "LBOO3doEs0DF",
        "colab_type": "code",
        "colab": {}
      },
      "source": [
        ""
      ],
      "execution_count": null,
      "outputs": []
    },
    {
      "cell_type": "code",
      "metadata": {
        "id": "SXOivf1-s0HK",
        "colab_type": "code",
        "colab": {}
      },
      "source": [
        ""
      ],
      "execution_count": null,
      "outputs": []
    }
  ]
}